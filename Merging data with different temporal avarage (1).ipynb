{
  "nbformat": 4,
  "nbformat_minor": 0,
  "metadata": {
    "colab": {
      "name": "Untitled1.ipynb",
      "provenance": []
    },
    "kernelspec": {
      "name": "python3",
      "display_name": "Python 3"
    }
  },
  "cells": [
    {
      "cell_type": "code",
      "metadata": {
        "id": "LYZtmRLfp6jK",
        "colab_type": "code",
        "colab": {}
      },
      "source": [
        "\n",
        "from google.colab import drive\n",
        "drive.mount('/content/drive')\n",
        "# MUST MOUNT GOOGLE DRIVE FIRST OR THE CODE WILL NOT RUN\n",
        "# These are all L2 data products, may add L1 to fill holes\n"
      ],
      "execution_count": null,
      "outputs": []
    },
    {
      "cell_type": "code",
      "metadata": {
        "id": "91zzQ1OEp44Y",
        "colab_type": "code",
        "colab": {
          "base_uri": "https://localhost:8080/",
          "height": 367
        },
        "outputId": "c6c82ae2-e875-4923-ca55-c075cc992c50"
      },
      "source": [
        "import os\n",
        "import xarray as xr\n",
        "import pandas as pd\n",
        "import re, time, random \n",
        "#daily data here\n",
        "df1 = pd.read_csv('/content/drive/My Drive/Irminger_2020_Project_Colab_Notebooks/Apex_Array/Profiler Mooring/CTD_CSVs/Test_20m_surface_mooring_w_1_1__6_14_filled_w_avaraged_14_to_19.csv', sep=\",\", index_col=None)\n",
        "\n",
        "#minutely data here\n",
        "df2= pd.read_csv('/content/drive/My Drive/Irminger_2020_Project_Colab_Notebooks/Apex_Array/Ready to Graph/profiler/MLD.csv', sep=\",\", index_col=None)\n",
        "#this script matched  data side by side by date. One file was daily data the other hourly\n",
        "df1 = df1.dropna() \n",
        "df2 = df2.dropna() \n",
        "\n",
        "df2['Date_formated'] = pd.to_datetime(df2['Date_formated'])\n",
        "df2['DateMatch'] = df2['Date_formated'].dt.strftime(\"%x\")\n",
        "df2['DateMatch'] = pd.to_datetime(df2['DateMatch'])\n",
        "\n",
        "df1['Date'] = pd.to_datetime(df1['Date'])\n",
        "df1['dateMatch'] = df1['Date'].dt.strftime(\"%x\")\n",
        "df1['dateMatch'] = pd.to_datetime(df1['dateMatch'])\n",
        "\n",
        "\n",
        "\n",
        "df3 = pd.merge_asof(df1, df2, left_on='dateMatch', right_on='DateMatch', suffixes=['mld','_daily'], tolerance=None, allow_exact_matches=True)\n",
        "\n",
        "df3.to_csv('/content/drive/My Drive/Irminger_2020_Project_Colab_Notebooks/Apex_Array/Profiler Mooring/CTD_CSVs/big_oof.csv')\n",
        "df3"
      ],
      "execution_count": 1,
      "outputs": [
        {
          "output_type": "error",
          "ename": "ModuleNotFoundError",
          "evalue": "ignored",
          "traceback": [
            "\u001b[0;31m---------------------------------------------------------------------------\u001b[0m",
            "\u001b[0;31mModuleNotFoundError\u001b[0m                       Traceback (most recent call last)",
            "\u001b[0;32m<ipython-input-1-d5928ea2271b>\u001b[0m in \u001b[0;36m<module>\u001b[0;34m()\u001b[0m\n\u001b[1;32m      1\u001b[0m \u001b[0;32mimport\u001b[0m \u001b[0mpandas\u001b[0m \u001b[0;32mas\u001b[0m \u001b[0mpd\u001b[0m\u001b[0;34m\u001b[0m\u001b[0;34m\u001b[0m\u001b[0m\n\u001b[0;32m----> 2\u001b[0;31m \u001b[0;32mimport\u001b[0m \u001b[0mgsw\u001b[0m \u001b[0;32mas\u001b[0m \u001b[0mgsw\u001b[0m\u001b[0;34m\u001b[0m\u001b[0;34m\u001b[0m\u001b[0m\n\u001b[0m\u001b[1;32m      3\u001b[0m \u001b[0;31m#https://github.com/TEOS-10/GSW-Python\u001b[0m\u001b[0;34m\u001b[0m\u001b[0;34m\u001b[0m\u001b[0;34m\u001b[0m\u001b[0m\n\u001b[1;32m      4\u001b[0m \u001b[0;31m#in oceanography calculating the absolute salinity, and conservative temprature is good pratice\u001b[0m\u001b[0;34m\u001b[0m\u001b[0;34m\u001b[0m\u001b[0;34m\u001b[0m\u001b[0m\n\u001b[1;32m      5\u001b[0m \u001b[0;34m\u001b[0m\u001b[0m\n",
            "\u001b[0;31mModuleNotFoundError\u001b[0m: No module named 'gsw'",
            "",
            "\u001b[0;31m---------------------------------------------------------------------------\u001b[0;32m\nNOTE: If your import is failing due to a missing package, you can\nmanually install dependencies using either !pip or !apt.\n\nTo view examples of installing some common dependencies, click the\n\"Open Examples\" button below.\n\u001b[0;31m---------------------------------------------------------------------------\u001b[0m\n"
          ]
        }
      ]
    },
    {
      "cell_type": "code",
      "metadata": {
        "id": "1150wu3Kv0jF",
        "colab_type": "code",
        "colab": {}
      },
      "source": [
        ""
      ],
      "execution_count": null,
      "outputs": []
    }
  ]
}