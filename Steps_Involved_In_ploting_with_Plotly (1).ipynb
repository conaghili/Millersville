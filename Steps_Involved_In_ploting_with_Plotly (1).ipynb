{
  "nbformat": 4,
  "nbformat_minor": 0,
  "metadata": {
    "colab": {
      "name": "Steps_Involved_In_ploting_with_Plotly.ipynb",
      "provenance": []
    },
    "kernelspec": {
      "name": "python3",
      "display_name": "Python 3"
    }
  },
  "cells": [
    {
      "cell_type": "markdown",
      "metadata": {
        "id": "dylGaGVqDFZe",
        "colab_type": "text"
      },
      "source": [
        "1) Mount Google Drive\n"
      ]
    },
    {
      "cell_type": "markdown",
      "metadata": {
        "id": "Wg0wTX1piqNx",
        "colab_type": "text"
      },
      "source": [
        "import your sample data into df1 and df2\n",
        "define index that is the timestamp of the observation\n",
        "upsample hourly data to every minute\n",
        "join upsampled date to minute frequency data to create df3\n",
        "you can now compare and contrast as much as you want as it's all in one data frame"
      ]
    },
    {
      "cell_type": "code",
      "metadata": {
        "id": "o9xWiPowB0zQ",
        "colab_type": "code",
        "colab": {
          "base_uri": "https://localhost:8080/",
          "height": 122
        },
        "outputId": "cdaafc2c-f218-4edb-a775-dd8091160996"
      },
      "source": [
        "from google.colab import drive\n",
        "drive.mount('/content/drive')\n",
        "# MUST MOUNT GOOGLE DRIVE FIRST OR THE CODE WILL NOT RUN\n",
        "# These are all L2 data products, may add L1 to fill holes"
      ],
      "execution_count": null,
      "outputs": [
        {
          "output_type": "stream",
          "text": [
            "Go to this URL in a browser: https://accounts.google.com/o/oauth2/auth?client_id=947318989803-6bn6qk8qdgf4n4g3pfee6491hc0brc4i.apps.googleusercontent.com&redirect_uri=urn%3aietf%3awg%3aoauth%3a2.0%3aoob&response_type=code&scope=email%20https%3a%2f%2fwww.googleapis.com%2fauth%2fdocs.test%20https%3a%2f%2fwww.googleapis.com%2fauth%2fdrive%20https%3a%2f%2fwww.googleapis.com%2fauth%2fdrive.photos.readonly%20https%3a%2f%2fwww.googleapis.com%2fauth%2fpeopleapi.readonly\n",
            "\n",
            "Enter your authorization code:\n",
            "··········\n",
            "Mounted at /content/drive\n"
          ],
          "name": "stdout"
        }
      ]
    },
    {
      "cell_type": "markdown",
      "metadata": {
        "id": "8QEOB2AqDJyv",
        "colab_type": "text"
      },
      "source": [
        "2) Install modules / packages needed for operations you're conducting \n",
        "\n",
        "*  Google Golab has a lot already pre-installed\n",
        "\n",
        "\n",
        "*  however if you get an error for say:\n",
        "\n",
        "\n",
        "> 'dt' is not defined (when you though you imported datetime as dt)\n",
        "\n",
        "1.   check if your compiler has the module installed\n",
        "2.   check if you imported the  module to begin with \n",
        "\n",
        "\n",
        "\n",
        "\n",
        "\n",
        "\n",
        "\n",
        "\n",
        "\n"
      ]
    },
    {
      "cell_type": "code",
      "metadata": {
        "id": "2zKEqRzHfIDl",
        "colab_type": "code",
        "colab": {
          "base_uri": "https://localhost:8080/",
          "height": 68
        },
        "outputId": "7c561998-79fa-4c78-eae1-02ebafbb2dbb"
      },
      "source": [
        "pip install plotly"
      ],
      "execution_count": null,
      "outputs": [
        {
          "output_type": "stream",
          "text": [
            "Requirement already satisfied: plotly in /usr/local/lib/python3.6/dist-packages (4.4.1)\n",
            "Requirement already satisfied: retrying>=1.3.3 in /usr/local/lib/python3.6/dist-packages (from plotly) (1.3.3)\n",
            "Requirement already satisfied: six in /usr/local/lib/python3.6/dist-packages (from plotly) (1.12.0)\n"
          ],
          "name": "stdout"
        }
      ]
    },
    {
      "cell_type": "code",
      "metadata": {
        "id": "lEtbjOfWCxVx",
        "colab_type": "code",
        "colab": {
          "base_uri": "https://localhost:8080/",
          "height": 129
        },
        "outputId": "95a84696-77fc-4aeb-d30c-308675d8f23a"
      },
      "source": [
        "\n",
        "pip install datetime\n"
      ],
      "execution_count": null,
      "outputs": [
        {
          "output_type": "error",
          "ename": "SyntaxError",
          "evalue": "ignored",
          "traceback": [
            "\u001b[0;36m  File \u001b[0;32m\"<ipython-input-14-f486f74ada3a>\"\u001b[0;36m, line \u001b[0;32m2\u001b[0m\n\u001b[0;31m    pip install datetime\u001b[0m\n\u001b[0m              ^\u001b[0m\n\u001b[0;31mSyntaxError\u001b[0m\u001b[0;31m:\u001b[0m invalid syntax\n"
          ]
        }
      ]
    },
    {
      "cell_type": "markdown",
      "metadata": {
        "id": "9WZoHELZC6xZ",
        "colab_type": "text"
      },
      "source": [
        "3) Sort and fill in Missing Dates"
      ]
    },
    {
      "cell_type": "code",
      "metadata": {
        "id": "pI2KwKZYB2Ii",
        "colab_type": "code",
        "colab": {}
      },
      "source": [
        "#daily Avarge script the organizes dates  \n",
        "\n",
        "#importing important modules \n",
        "import os\n",
        "import xarray as xr\n",
        "import pandas as pd\n",
        "\n",
        "# changes the file path to  the particular csv file of intrest. Then your 'Date' column name in excel will be placed in parse_dates=[''] and index_col=''\n",
        "df = pd.read_csv(\"/content/drive/My Drive/Irminger_2020_Project_Colab_Notebooks/MLD/MLD_59.06_60.62_and_neg_37.605_neg_41.505_indiv_argo_floats_1.csv\", parse_dates=['Date'], index_col='Date')\n",
        "\n",
        "#Resamples to daily and saves it as a csv to the file path and name given\n",
        "df.resample('D').mean().to_csv('/content/drive/My Drive/Irminger_2020_Project_Colab_Notebooks/MLD/Daily_MLD_59.06_60.62_and_neg_37.605_neg_41.505_indiv_argo_floats.csv')\n",
        "\n",
        "#Make sure you include .csv for both importing and exporting files!"
      ],
      "execution_count": null,
      "outputs": []
    },
    {
      "cell_type": "markdown",
      "metadata": {
        "id": "jk6Iv2eiGFid",
        "colab_type": "text"
      },
      "source": [
        "4) Selecting the First of each Month and Axis format (as in  in our case being single chacter months)"
      ]
    },
    {
      "cell_type": "code",
      "metadata": {
        "id": "I_v9VUXfGw-0",
        "colab_type": "code",
        "colab": {
          "base_uri": "https://localhost:8080/",
          "height": 54
        },
        "outputId": "a6126a44-f64d-46e0-ec3d-932c332b676b"
      },
      "source": [
        "#Selection scripts\n",
        "\n",
        "import numpy as np\n",
        "import pandas as pd\n",
        "import datetime as dt\n",
        "from time import strptime\n",
        "# changes the file path to  the particular csv file of intrest\n",
        "df = pd.read_csv('/content/drive/My Drive/Irminger_2020_Project_Colab_Notebooks/Apex_Array/Ready to Graph/A/Temp_All_CTD_Flanking_Subsurface_A1.csv',sep = ',',encoding='utf-8-sig',)\n",
        "\n",
        "# Formating your 'Date' (whatever the Date column name is) to datetime readable format and declaring this column as Date_formated\n",
        "  # Adds a 'Date_formated' column in the dataframe. This Dataframe we defined is the csv file read into python. \n",
        "  # Changes made here do not change the file read in! \n",
        "  # For example typing only  df  on a line will populate the defined  dataframe up to the point where you typed df below in the output section\n",
        "df['Date_formated'] = pd.to_datetime(df['Date'])\n",
        "# Declaring a Month Column which formats the  word/string repersentation of each month (ie september, october etc) with one character\n",
        "df['Month'] = pd.to_datetime(df['Date_formated'], format='%m').dt.month_name().str.slice(stop=1)\n",
        "# The next two lines takes Date_formated and creates a Day_of_Month which repersents only the numeric day of the particular month of intrest\n",
        "Days = (df['Date_formated']).dt.day\n",
        "df['Day_of_Month'] = Days\n",
        "# we set our entire dateframe equal to values of Day_of_Month equaling 1 so to filter the first of each month\n",
        "df = df[df['Day_of_Month'] == 1]\n",
        "# a for loop which takes each entery or index (in other python scripts you may see idx)  in Date and prints it in a particular format\n",
        "for index in df['Date']:\n",
        "      print(\"'\" + index +\"'\" + ',', end=\" \") # this format is needed for plotly, \n",
        "\n",
        "#Think of the loop like this['index(0)',....'index(i)' ] where 0 is our intial value and i is the range or say max value. We loop each value from 0 to i and print each one in the format above\n",
        "# with end being a space it allows the values to be printed next to eachother "
      ],
      "execution_count": null,
      "outputs": [
        {
          "output_type": "stream",
          "text": [
            "'2014-10-01', '2014-11-01', '2014-12-01', '2015-01-01', '2015-02-01', '2015-03-01', '2015-04-01', '2015-05-01', '2015-06-01', '2015-07-01', '2015-08-01', '2015-09-01', '2015-10-01', '2015-11-01', '2015-12-01', '2016-01-01', '2016-02-01', '2016-03-01', '2016-04-01', '2016-05-01', '2016-06-01', '2016-07-01', '2016-08-01', '2016-09-01', '2016-10-01', '2016-11-01', '2016-12-01', '2017-01-01', '2017-02-01', '2017-03-01', '2017-04-01', '2017-05-01', '2017-06-01', '2017-07-01', '2017-08-01', '2017-09-01', '2017-10-01', '2017-11-01', '2017-12-01', '2018-01-01', '2018-02-01', '2018-03-01', '2018-04-01', '2018-05-01', '2018-06-01', '2018-07-01', '2018-08-01', '2018-09-01', '2018-10-01', '2018-11-01', '2018-12-01', '2019-01-01', '2019-02-01', '2019-03-01', '2019-04-01', '2019-05-01', '2019-06-01', '2019-07-01', '2019-08-01', "
          ],
          "name": "stdout"
        }
      ]
    },
    {
      "cell_type": "code",
      "metadata": {
        "id": "KrRR-QwkGy4f",
        "colab_type": "code",
        "colab": {
          "base_uri": "https://localhost:8080/",
          "height": 34
        },
        "outputId": "4e1bb741-471a-4ac4-d915-a82ad732eb39"
      },
      "source": [
        "import numpy as np\n",
        "import pandas as pd\n",
        "import datetime as dt\n",
        "from time import strptime\n",
        "# changes the file path to  the particular csv file of intrest.\n",
        "df = pd.read_csv('/content/drive/My Drive/Irminger_2020_Project_Colab_Notebooks/Apex_Array/Ready to Graph/A/Temp_All_CTD_Flanking_Subsurface_A1.csv',sep = ',',encoding='utf-8-sig',)\n",
        "df['Date_formated'] = pd.to_datetime(df['Date'])\n",
        "df['Month'] = pd.to_datetime(df['Date_formated'], format='%m').dt.month_name().str.slice(stop=1)\n",
        "Days = (df['Date_formated']).dt.day\n",
        "df['Day_of_Month'] = Days\n",
        "df = df[df['Day_of_Month'] == 1]\n",
        "\n",
        "#Same exact code except this loops over the dataframe's  Month column which was defined as single character repersentations of the month so ('O','N',...etc)\n",
        "for index in df['Month']:\n",
        "      print(\"'\" + index +\"'\" + ',', end=\" \")"
      ],
      "execution_count": null,
      "outputs": [
        {
          "output_type": "stream",
          "text": [
            "'O', 'N', 'D', 'J', 'F', 'M', 'A', 'M', 'J', 'J', 'A', 'S', 'O', 'N', 'D', 'J', 'F', 'M', 'A', 'M', 'J', 'J', 'A', 'S', 'O', 'N', 'D', 'J', 'F', 'M', 'A', 'M', 'J', 'J', 'A', 'S', 'O', 'N', 'D', 'J', 'F', 'M', 'A', 'M', 'J', 'J', 'A', 'S', 'O', 'N', 'D', 'J', 'F', 'M', 'A', 'M', 'J', 'J', 'A', "
          ],
          "name": "stdout"
        }
      ]
    },
    {
      "cell_type": "markdown",
      "metadata": {
        "id": "bAxyw-hJL8E4",
        "colab_type": "text"
      },
      "source": [
        "5) Ploting Script"
      ]
    },
    {
      "cell_type": "code",
      "metadata": {
        "id": "Z-QMh7L8L-F0",
        "colab_type": "code",
        "colab": {}
      },
      "source": [
        "# This example is based on a Temprature Plot created \n",
        "\n",
        "import plotly as py\n",
        "import plotly.graph_objs as go\n",
        "import plotly.figure_factory as FF\n",
        "import numpy as np\n",
        "import pandas as pd\n",
        "import os\n",
        "import plotly.io as pio\n",
        "\n",
        "\n",
        "# Default template\n",
        "pio.templates.default = \"plotly\"\n",
        "\n",
        "\n",
        "if not os.path.exists(\"images\"):\n",
        "    os.mkdir(\"images\")\n",
        "\n",
        "#importing our now perfect data, call in the data which was daily resampled (whatever you named it)\n",
        "df = pd.read_csv('/content/drive/My Drive/Irminger_2020_Project_Colab_Notebooks/Apex_Array/Ready to Graph/A/Temp_All_CTD_Flanking_Subsurface_A1.csv')\n",
        "\n",
        "\n",
        "#Lines to plot with this varries per file\n",
        "trace1 = go.Scatter(x=df['Date'], y=df['30m'],  name='30m')\n",
        "trace2 = go.Scatter(x=df['Date'], y=df['40m'],  name='40m')\n",
        "trace3 = go.Scatter(x=df['Date'], y=df['60m'],  name='60m')\n",
        "trace4 = go.Scatter(x=df['Date'], y=df['90m'],  name='90m')\n",
        "trace5 = go.Scatter(x=df['Date'], y=df['130m'],  name='130m')\n",
        "trace6 = go.Scatter(x=df['Date'], y=df['180m'],  name='180m')\n",
        "trace7 = go.Scatter(x=df['Date'], y=df['250m'],  name='250m')\n",
        "\n",
        "\n",
        "\n",
        "# Plot layout, this is how plotly is organized\n",
        "layout = go.Layout(title={ \n",
        "                           'y':0.92,\n",
        "                           'x':0.18,\n",
        "                           'xanchor': 'center',\n",
        "                           'yanchor': 'top'}, \n",
        "                   \n",
        "                   # Change title for plot of intrest\n",
        "                   title_text = 'Plot Title',\n",
        "                   #RGB color space or RGB color system is used in plotly. It constructs all the colors from the combination of the Red, Green and Blue colors.\n",
        "                  plot_bgcolor='rgb(255, 255, 255)',  \n",
        "                   # With showing the legend all you need to do is set it to true or false               \n",
        "                      showlegend=True,\n",
        "                   #position legend horizontally, i think v makes it vertical but you can literally google 'legend_orientation' to figure this out\n",
        "                     legend_orientation=\"h\",\n",
        "                   \n",
        "                # wanting to define what font we want to use. You can mess with this later if you want to fine tune it (same with anything within this script)\n",
        "                  font=dict(\n",
        "                          family=\"Avenir, monospace\",\n",
        "                          size=22,\n",
        "                         color=\"#000000\"),\n",
        "                         \n",
        "                         \n",
        "                         # This defines the hight and width of our plot. Notice from 2014 -2019 needs  a wide plot. You should play with this for your particular data. Hopefully with your OOI data your date range is similar so you only need to copy paste this without editing it again\n",
        "                         height=500,\n",
        "                         width=2000,\n",
        "                   \n",
        "                   \n",
        "                     xaxis=dict(\n",
        "                         # Change title for x variable of intrest\n",
        "                         title_text = 'Date',\n",
        "                         tickmode = 'array',\n",
        "                         # Copy filtered Months to ticktext and tickvals. I would ctrl+c above then highlight and ctrl+v to replace text within the contents.  \n",
        "                         ticktext = ('O', 'N', 'D', 'J', 'F', 'M', 'A', 'M', 'J', 'J', 'A', 'S', 'O', 'N', 'D', 'J', 'F', 'M', 'A', 'M', 'J', 'J', 'A', 'S', 'O', 'N', 'D', 'J', 'F', 'M', 'A', 'M', 'J', 'J', 'A', 'S', 'O', 'N', 'D', 'J', 'F', 'M', 'A', 'M', 'J', 'J', 'A', 'S', 'O', 'N', 'D', 'J', 'F', 'M', 'A', 'M', 'J', 'J', 'A'), \n",
        "                         tickvals=('2014-10-01', '2014-11-01', '2014-12-01', '2015-01-01', '2015-02-01', '2015-03-01', '2015-04-01', '2015-05-01', '2015-06-01', '2015-07-01', '2015-08-01', '2015-09-01', '2015-10-01', '2015-11-01', '2015-12-01', '2016-01-01', '2016-02-01', '2016-03-01', '2016-04-01', '2016-05-01', '2016-06-01', '2016-07-01', '2016-08-01', '2016-09-01', '2016-10-01', '2016-11-01', '2016-12-01', '2017-01-01', '2017-02-01', '2017-03-01', '2017-04-01', '2017-05-01', '2017-06-01', '2017-07-01', '2017-08-01', '2017-09-01', '2017-10-01', '2017-11-01', '2017-12-01', '2018-01-01', '2018-02-01', '2018-03-01', '2018-04-01', '2018-05-01', '2018-06-01', '2018-07-01', '2018-08-01', '2018-09-01', '2018-10-01', '2018-11-01', '2018-12-01', '2019-01-01', '2019-02-01', '2019-03-01', '2019-04-01', '2019-05-01', '2019-06-01', '2019-07-01', '2019-08-01'),    \n",
        "                           #color of the gridlines associated to the x axis          \n",
        "                          gridcolor= 'rgb(125, 125, 125)',\n",
        "                        \n",
        "                     ),\n",
        "                   \n",
        "                  \n",
        "                 yaxis=dict(\n",
        "                      # Change title for y variable of intrest\n",
        "                     title_text = 'Temperature (°C)',\n",
        "                        tickmode = 'array',\n",
        "                        # the range of values we use\n",
        "                        range=[3,10],\n",
        "                        # defines what is shown on the y axis\n",
        "                        tickvals = ('3','4','5','6','7','8','9','10'),\n",
        "                        #color of the gridlines associated to the y axis \n",
        "                        gridcolor= 'rgb(125, 125, 125)', \n",
        "                              \n",
        "                     \n",
        "                        \n",
        "               title_standoff = 0          \n",
        "\n",
        "               ),\n",
        "          \n",
        "            \n",
        ")\n",
        "                   \n",
        "\n",
        "\n",
        "\n",
        "#Change to trace amount\n",
        "fig = go.Figure(data=[trace1, trace2, trace3, trace4, trace5, trace6, trace7], layout=layout)\n",
        "\n",
        "\n",
        "# Change to years specific to data useing\n",
        "\n",
        "fig.add_shape(\n",
        "        # Line Vertical\n",
        "        dict(\n",
        "            type=\"line\",\n",
        "            x0='2015-01-01',\n",
        "            y0=0,\n",
        "            x1='2015-01-01',\n",
        "            y1=10,\n",
        "             layer=\"below\",\n",
        "            line=dict(\n",
        "                color=\"rgb(125, 125, 125)\",\n",
        "                width=5)\n",
        "            \n",
        "        ))\n",
        "\n",
        "fig.add_shape(\n",
        "        # Line Vertical\n",
        "        dict(\n",
        "            type=\"line\",\n",
        "            x0='2016-01-01',\n",
        "            y0=0,\n",
        "            x1='2016-01-01',\n",
        "            y1=10,\n",
        "             layer=\"below\",\n",
        "            line=dict(\n",
        "                color=\"rgb(125, 125, 125)\",\n",
        "                width=5)\n",
        "            \n",
        "        ))\n",
        "\n",
        "fig.add_shape(\n",
        "        # Line Vertical\n",
        "        dict(\n",
        "            type=\"line\",\n",
        "            x0='2017-01-01',\n",
        "            y0=0,\n",
        "            x1='2017-01-01',\n",
        "            y1=10,\n",
        "             layer=\"below\",\n",
        "            line=dict(\n",
        "                color=\"rgb(125, 125, 125)\",\n",
        "                width=5)\n",
        "            \n",
        "        ))\n",
        "\n",
        "fig.add_shape(\n",
        "        # Line Vertical\n",
        "        dict(\n",
        "            type=\"line\",\n",
        "            x0='2018-01-01',\n",
        "            y0=0,\n",
        "            x1='2018-01-01',\n",
        "            y1=10,\n",
        "             layer=\"below\",\n",
        "            line=dict(\n",
        "                color=\"rgb(125, 125, 125)\",\n",
        "                width=5)\n",
        "            \n",
        "        ))\n",
        "fig.add_shape(\n",
        "        # Line Vertical\n",
        "        dict(\n",
        "            type=\"line\",\n",
        "            x0='2019-01-01',\n",
        "            y0=0,\n",
        "            x1='2019-01-01',\n",
        "            y1=10,\n",
        "             layer=\"below\",\n",
        "            line=dict(\n",
        "                color=\"rgb(125, 125, 125)\",\n",
        "                width=5)\n",
        "            \n",
        "        ))\n",
        "\n",
        "\n",
        "\n",
        "# Adds rectangle around plot, change values specific to your data\n",
        "\n",
        "fig.add_shape(\n",
        "        # unfilled Rectangle\n",
        "            type=\"rect\",\n",
        "            x0='2014-09-12',\n",
        "            y0=3.06,\n",
        "            x1='2019-08-09',\n",
        "            y1=9.94,\n",
        "            line=dict(\n",
        "                 color=\"rgb(100, 100, 100)\",\n",
        "                 width=6.5\n",
        "            ),)\n",
        "\n",
        "\n",
        "# Makes legend item size larger\n",
        "fig.update_layout(legend= {'itemsizing': 'constant'})\n",
        "\n",
        "\n",
        "fig.show()\n"
      ],
      "execution_count": null,
      "outputs": []
    },
    {
      "cell_type": "code",
      "metadata": {
        "id": "wQ6cTVnSibIn",
        "colab_type": "code",
        "colab": {
          "base_uri": "https://localhost:8080/",
          "height": 235
        },
        "outputId": "6b31ae45-dd19-4a4b-c4c4-0f90180399b0"
      },
      "source": [
        "import re, time, random \n",
        "import pandas as pd\n",
        "\n",
        "data = '''Date          pressure    temperature          density\n",
        "9/12/2014 9:00     170            4.0                1028\n",
        "9/12/2014 10:00    368            4.2                1028.5'''\n",
        "da = [[i for i in re.split(\"[ ][ ]+\", l)] for l in data.split(\"\\n\")]\n",
        "df2 = pd.DataFrame(da[1:], columns=da[0])\n",
        "data='''Date        pressure      temperature           density\n",
        "9/12/2014 9:00  177.859887      4.574663842         1028.477\n",
        "9/12/2014 9:01  214.3598333     4.397781667         1028.66\n",
        "9/12/2014 9:02  264.5863333     4.208137222         1028.905\n",
        "9/12/2014 10:00  314.3161111     4.1242              1029.143\n",
        "9/12/2014 10:01  363.8005587     4.02983352          1029.377'''\n",
        "da = [[i for i in re.split(\"[ ][ ]+\", l)] for l in data.split(\"\\n\")]\n",
        "df1 = pd.DataFrame(da[1:], columns=da[0])\n",
        "\n",
        "df1.index = pd.to_datetime(df1.Date, format=\"%d/%m/%Y %H:%M\", utc=True)\n",
        "df2.index = pd.to_datetime(df2.Date, format=\"%d/%m/%Y %H:%M\", utc=True)\n",
        "df3 = df1.join(df2.resample(\"1min\").pad(), rsuffix=\"_hourly\")\n",
        "df3"
      ],
      "execution_count": null,
      "outputs": [
        {
          "output_type": "execute_result",
          "data": {
            "text/html": [
              "<div>\n",
              "<style scoped>\n",
              "    .dataframe tbody tr th:only-of-type {\n",
              "        vertical-align: middle;\n",
              "    }\n",
              "\n",
              "    .dataframe tbody tr th {\n",
              "        vertical-align: top;\n",
              "    }\n",
              "\n",
              "    .dataframe thead th {\n",
              "        text-align: right;\n",
              "    }\n",
              "</style>\n",
              "<table border=\"1\" class=\"dataframe\">\n",
              "  <thead>\n",
              "    <tr style=\"text-align: right;\">\n",
              "      <th></th>\n",
              "      <th>Date</th>\n",
              "      <th>pressure</th>\n",
              "      <th>temperature</th>\n",
              "      <th>density</th>\n",
              "      <th>Date_hourly</th>\n",
              "      <th>pressure_hourly</th>\n",
              "      <th>temperature_hourly</th>\n",
              "      <th>density_hourly</th>\n",
              "    </tr>\n",
              "    <tr>\n",
              "      <th>Date</th>\n",
              "      <th></th>\n",
              "      <th></th>\n",
              "      <th></th>\n",
              "      <th></th>\n",
              "      <th></th>\n",
              "      <th></th>\n",
              "      <th></th>\n",
              "      <th></th>\n",
              "    </tr>\n",
              "  </thead>\n",
              "  <tbody>\n",
              "    <tr>\n",
              "      <th>2014-12-09 09:00:00+00:00</th>\n",
              "      <td>9/12/2014 9:00</td>\n",
              "      <td>177.859887</td>\n",
              "      <td>4.574663842</td>\n",
              "      <td>1028.477</td>\n",
              "      <td>9/12/2014 9:00</td>\n",
              "      <td>170</td>\n",
              "      <td>4.0</td>\n",
              "      <td>1028</td>\n",
              "    </tr>\n",
              "    <tr>\n",
              "      <th>2014-12-09 09:01:00+00:00</th>\n",
              "      <td>9/12/2014 9:01</td>\n",
              "      <td>214.3598333</td>\n",
              "      <td>4.397781667</td>\n",
              "      <td>1028.66</td>\n",
              "      <td>9/12/2014 9:00</td>\n",
              "      <td>170</td>\n",
              "      <td>4.0</td>\n",
              "      <td>1028</td>\n",
              "    </tr>\n",
              "    <tr>\n",
              "      <th>2014-12-09 09:02:00+00:00</th>\n",
              "      <td>9/12/2014 9:02</td>\n",
              "      <td>264.5863333</td>\n",
              "      <td>4.208137222</td>\n",
              "      <td>1028.905</td>\n",
              "      <td>9/12/2014 9:00</td>\n",
              "      <td>170</td>\n",
              "      <td>4.0</td>\n",
              "      <td>1028</td>\n",
              "    </tr>\n",
              "    <tr>\n",
              "      <th>2014-12-09 10:00:00+00:00</th>\n",
              "      <td>9/12/2014 10:00</td>\n",
              "      <td>314.3161111</td>\n",
              "      <td>4.1242</td>\n",
              "      <td>1029.143</td>\n",
              "      <td>9/12/2014 10:00</td>\n",
              "      <td>368</td>\n",
              "      <td>4.2</td>\n",
              "      <td>1028.5</td>\n",
              "    </tr>\n",
              "    <tr>\n",
              "      <th>2014-12-09 10:01:00+00:00</th>\n",
              "      <td>9/12/2014 10:01</td>\n",
              "      <td>363.8005587</td>\n",
              "      <td>4.02983352</td>\n",
              "      <td>1029.377</td>\n",
              "      <td>NaN</td>\n",
              "      <td>NaN</td>\n",
              "      <td>NaN</td>\n",
              "      <td>NaN</td>\n",
              "    </tr>\n",
              "  </tbody>\n",
              "</table>\n",
              "</div>"
            ],
            "text/plain": [
              "                                      Date  ... density_hourly\n",
              "Date                                        ...               \n",
              "2014-12-09 09:00:00+00:00   9/12/2014 9:00  ...           1028\n",
              "2014-12-09 09:01:00+00:00   9/12/2014 9:01  ...           1028\n",
              "2014-12-09 09:02:00+00:00   9/12/2014 9:02  ...           1028\n",
              "2014-12-09 10:00:00+00:00  9/12/2014 10:00  ...         1028.5\n",
              "2014-12-09 10:01:00+00:00  9/12/2014 10:01  ...            NaN\n",
              "\n",
              "[5 rows x 8 columns]"
            ]
          },
          "metadata": {
            "tags": []
          },
          "execution_count": 3
        }
      ]
    }
  ]
}