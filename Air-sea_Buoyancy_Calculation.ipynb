{
  "nbformat": 4,
  "nbformat_minor": 0,
  "metadata": {
    "colab": {
      "name": "Untitled1.ipynb",
      "provenance": []
    },
    "kernelspec": {
      "name": "python3",
      "display_name": "Python 3"
    }
  },
  "cells": [
    {
      "cell_type": "code",
      "metadata": {
        "id": "LYZtmRLfp6jK",
        "colab_type": "code",
        "colab": {}
      },
      "source": [
        "\n",
        "from google.colab import drive\n",
        "drive.mount('/content/drive')\n",
        "# MUST MOUNT GOOGLE DRIVE FIRST OR THE CODE WILL NOT RUN\n",
        "# These are all L2 data products, may add L1 to fill holes\n"
      ],
      "execution_count": null,
      "outputs": []
    },
    {
      "cell_type": "code",
      "metadata": {
        "id": "eek1sS-Bp8AJ",
        "colab_type": "code",
        "colab": {}
      },
      "source": [
        "pip install gsw"
      ],
      "execution_count": null,
      "outputs": []
    },
    {
      "cell_type": "code",
      "metadata": {
        "id": "91zzQ1OEp44Y",
        "colab_type": "code",
        "colab": {
          "base_uri": "https://localhost:8080/",
          "height": 367
        },
        "outputId": "c6c82ae2-e875-4923-ca55-c075cc992c50"
      },
      "source": [
        "import pandas as pd\n",
        "import gsw as gsw\n",
        "#https://github.com/TEOS-10/GSW-Python\n",
        "#in oceanography calculating the absolute salinity, and conservative temprature is good pratice\n",
        "#This below calculates the air-sea bouoyancy flux and fresh water flux \n",
        "\n",
        "df = pd.read_csv('/content/drive/My Drive/Irminger_2020_Project_Colab_Notebooks/Air Sea Flux/Air_sea_flux.csv', sep=\",\", index_col=None)\n",
        "lon= -39.47\n",
        "lat= 59.93\n",
        "SP = df['met_salsurf'] #PSU\n",
        "SST = df['sea_surface_temperature'] #degC\n",
        "p = df['barometric_pressure'] #dbar\n",
        "\n",
        "df['absolute_sal'] = gsw.SA_from_SP(SP, p, lon, lat)\n",
        "\n",
        "SA = df['absolute_sal']\n",
        "\n",
        "df['conservative_temprature'] = gsw.conversions.t_from_CT(SA, SST, p)\n",
        "\n",
        "CT =df['conservative_temprature']\n",
        "\n",
        "df['alpha'] = gsw.density.alpha(SA, CT, p)\n",
        "\n",
        "df['beta'] = gsw.density.beta(SA, CT, p)\n",
        "\n",
        "cp = 3990 #J/kgC\n",
        "p0 = 1026 #kg/m^3\n",
        "g = 9.81  #m/s^-2\n",
        "A = df['alpha'] \n",
        "OOIFWF= df['met_frshflx'] #mm/hr\n",
        "df['FWF'] = (df['met_frshflx'])*(2.7778e-7)  #m/s\n",
        "FWF = df['FWF']\n",
        "Q = df['heatflx'] # W/m^2, corrected values\n",
        "B = df['beta'] \n",
        "\n",
        "# equations from https://os.copernicus.org/articles/16/99/2020/\n",
        "\n",
        "df['air-sea_Buoyancy_Flux'] = (((A*g)/(p0*cp))*Q) - B*g*SP*FWF # m^2/s^3\n",
        "ASBF = df['air-sea_Buoyancy_Flux'] # W/m^-2\n",
        "\n",
        "df['Bsurf'] = ((p0*cp)/(g*A))*ASBF  # W/m^-2\n",
        "\n",
        "df['FWF*'] = ((p0*cp)/(A))*SP*B*FWF # W/m^-2\n",
        "\n",
        "df.to_csv('/content/drive/My Drive/Irminger_2020_Project_Colab_Notebooks/Air Sea Flux/Air_sea_flux_calc.csv', sep=\",\")"
      ],
      "execution_count": 1,
      "outputs": [
        {
          "output_type": "error",
          "ename": "ModuleNotFoundError",
          "evalue": "ignored",
          "traceback": [
            "\u001b[0;31m---------------------------------------------------------------------------\u001b[0m",
            "\u001b[0;31mModuleNotFoundError\u001b[0m                       Traceback (most recent call last)",
            "\u001b[0;32m<ipython-input-1-d5928ea2271b>\u001b[0m in \u001b[0;36m<module>\u001b[0;34m()\u001b[0m\n\u001b[1;32m      1\u001b[0m \u001b[0;32mimport\u001b[0m \u001b[0mpandas\u001b[0m \u001b[0;32mas\u001b[0m \u001b[0mpd\u001b[0m\u001b[0;34m\u001b[0m\u001b[0;34m\u001b[0m\u001b[0m\n\u001b[0;32m----> 2\u001b[0;31m \u001b[0;32mimport\u001b[0m \u001b[0mgsw\u001b[0m \u001b[0;32mas\u001b[0m \u001b[0mgsw\u001b[0m\u001b[0;34m\u001b[0m\u001b[0;34m\u001b[0m\u001b[0m\n\u001b[0m\u001b[1;32m      3\u001b[0m \u001b[0;31m#https://github.com/TEOS-10/GSW-Python\u001b[0m\u001b[0;34m\u001b[0m\u001b[0;34m\u001b[0m\u001b[0;34m\u001b[0m\u001b[0m\n\u001b[1;32m      4\u001b[0m \u001b[0;31m#in oceanography calculating the absolute salinity, and conservative temprature is good pratice\u001b[0m\u001b[0;34m\u001b[0m\u001b[0;34m\u001b[0m\u001b[0;34m\u001b[0m\u001b[0m\n\u001b[1;32m      5\u001b[0m \u001b[0;34m\u001b[0m\u001b[0m\n",
            "\u001b[0;31mModuleNotFoundError\u001b[0m: No module named 'gsw'",
            "",
            "\u001b[0;31m---------------------------------------------------------------------------\u001b[0;32m\nNOTE: If your import is failing due to a missing package, you can\nmanually install dependencies using either !pip or !apt.\n\nTo view examples of installing some common dependencies, click the\n\"Open Examples\" button below.\n\u001b[0;31m---------------------------------------------------------------------------\u001b[0m\n"
          ]
        }
      ]
    },
    {
      "cell_type": "code",
      "metadata": {
        "id": "1150wu3Kv0jF",
        "colab_type": "code",
        "colab": {}
      },
      "source": [
        ""
      ],
      "execution_count": null,
      "outputs": []
    }
  ]
}