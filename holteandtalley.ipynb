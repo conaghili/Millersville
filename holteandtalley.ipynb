{
  "nbformat": 4,
  "nbformat_minor": 0,
  "metadata": {
    "colab": {
      "name": "holteandtalley.ipynb",
      "provenance": []
    },
    "kernelspec": {
      "name": "python3",
      "display_name": "Python 3"
    }
  },
  "cells": [
    {
      "cell_type": "code",
      "metadata": {
        "id": "O9CaokqJoizv",
        "colab_type": "code",
        "colab": {}
      },
      "source": [
        "from google.colab import drive\n",
        "drive.mount('/content/drive')\n",
        "# MUST MOUNT GOOGLE DRIVE FIRST OR THE CODE WILL NOT RUN\n",
        "# These are all L2 data products, may add L1 to fill holes"
      ],
      "execution_count": null,
      "outputs": []
    },
    {
      "cell_type": "code",
      "metadata": {
        "id": "9t7F92zFoaOE",
        "colab_type": "code",
        "colab": {}
      },
      "source": [
        "pip install holteandtalley"
      ],
      "execution_count": null,
      "outputs": []
    },
    {
      "cell_type": "code",
      "metadata": {
        "id": "K2zmGvP5oY0z",
        "colab_type": "code",
        "colab": {}
      },
      "source": [
        "\n",
        "# This is the package that needed to be installed\n",
        "from holteandtalley import HolteAndTalley\n",
        "import pandas as pd\n",
        "import numpy as np\n",
        "df = pd.read_csv('/content/drive/My Drive/Irminger_2020_Project_Colab_Notebooks/Apex_Array/Profiler Mooring/CTD_CSVs/MLD/Upcast_MLD_data.csv', sep=\",\",low_memory=False, index_col=None)\n",
        "# This was an atempt in calculating the Mix Layer Depth in the Irmginer Sea \n",
        "# This script utilizes holteandtalley's algorithm \n",
        "df = df.dropna() \n",
        "x = 1755 #Days since September 2014\n",
        "df = df[df['Column1'] == x]\n",
        "pressures = df['pressure'].to_numpy()\n",
        "temperaturess = df['Conservative_Temprature'].to_numpy()\n",
        "salinities = df['absolute_salinity'].to_numpy()\n",
        "densities = df['Potential_Density'].to_numpy()\n",
        "h = HolteAndTalley(pressures,temperaturess,salinities,densities)\n",
        " ##The temperature algorithms mixed layer depth\n",
        "print(x, h.tempMLD,h.salinityMLD,h.densityMLD)\n",
        " ##The salinity algorithms mixed layer depth\n",
        " ##The density algorithms mixed layer depth\n",
        "\n"
      ],
      "execution_count": null,
      "outputs": []
    }
  ]
}